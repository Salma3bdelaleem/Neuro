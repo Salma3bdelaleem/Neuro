{
  "nbformat": 4,
  "nbformat_minor": 0,
  "metadata": {
    "colab": {
      "provenance": []
    },
    "kernelspec": {
      "name": "python3",
      "display_name": "Python 3"
    },
    "language_info": {
      "name": "python"
    }
  },
  "cells": [
    {
      "cell_type": "code",
      "execution_count": 1,
      "metadata": {
        "id": "DAUUhxIez1_Z"
      },
      "outputs": [],
      "source": [
        "import random"
      ]
    },
    {
      "cell_type": "code",
      "source": [
        "# Initialize inputs\n",
        "i1, i2 = 0.05, 0.10"
      ],
      "metadata": {
        "id": "mP-5jhNCz6vi"
      },
      "execution_count": 2,
      "outputs": []
    },
    {
      "cell_type": "code",
      "source": [
        "# Initialize weights randomly in the range [-0.5, 0.5]\n",
        "w1 = random.uniform(-0.5, 0.5)\n",
        "w2 = random.uniform(-0.5, 0.5)\n",
        "w3 = random.uniform(-0.5, 0.5)\n",
        "w4 = random.uniform(-0.5, 0.5)\n",
        "w5 = random.uniform(-0.5, 0.5)\n",
        "w6 = random.uniform(-0.5, 0.5)\n",
        "w7 = random.uniform(-0.5, 0.5)\n",
        "w8 = random.uniform(-0.5, 0.5)\n",
        "\n",
        "print(w1,w2,w3,w4,w5,w6,w7,w8)"
      ],
      "metadata": {
        "colab": {
          "base_uri": "https://localhost:8080/"
        },
        "id": "BbKhTJpEz6tP",
        "outputId": "8804e192-b380-49c5-a3b1-06acdf72c7cb"
      },
      "execution_count": 3,
      "outputs": [
        {
          "output_type": "stream",
          "name": "stdout",
          "text": [
            "0.22626201494966258 0.2702312959798988 0.11774563471550836 0.40866317575755673 0.13602498048464662 0.18840715099414973 -0.3074128264949362 -0.19111729770983454\n"
          ]
        }
      ]
    },
    {
      "cell_type": "code",
      "source": [
        "# Bias values\n",
        "b1, b2 = 0.5, 0.7"
      ],
      "metadata": {
        "id": "4o1dwC08z6rD"
      },
      "execution_count": 4,
      "outputs": []
    },
    {
      "cell_type": "code",
      "source": [
        "# Define the tanh activation function\n",
        "def exp(x):\n",
        "    result = 1\n",
        "    term = 1\n",
        "    for i in range(1, 20):\n",
        "        term *= x / i\n",
        "        result += term\n",
        "    return result\n",
        "\n",
        "def tanh(x):\n",
        "    ex = exp(x)\n",
        "    e_minus_x = exp(-x)\n",
        "    return (ex - e_minus_x) / (ex + e_minus_x)"
      ],
      "metadata": {
        "id": "MZyD95sJz6ou"
      },
      "execution_count": 5,
      "outputs": []
    },
    {
      "cell_type": "code",
      "source": [
        "# Compute hidden layer neuron activations\n",
        "h1_input = (i1 * w1) + (i2 * w3) + b1\n",
        "h2_input = (i1 * w2) + (i2 * w4) + b1\n",
        "\n",
        "h1_output = tanh(h1_input)\n",
        "h2_output = tanh(h2_input)"
      ],
      "metadata": {
        "id": "n1F_mHtCz6mW"
      },
      "execution_count": 6,
      "outputs": []
    },
    {
      "cell_type": "code",
      "source": [
        "# Compute output layer neuron activations\n",
        "o1_input = (h1_output * w5) + (h2_output * w7) + b2\n",
        "o2_input = (h1_output * w6) + (h2_output * w8) + b2\n",
        "\n",
        "o1_output = tanh(o1_input)\n",
        "o2_output = tanh(o2_input)"
      ],
      "metadata": {
        "id": "bIFz7X2Oz6kP"
      },
      "execution_count": 7,
      "outputs": []
    },
    {
      "cell_type": "code",
      "source": [
        "# Print the output values\n",
        "print(f\"Output o1: {o1_output}\")\n",
        "print(f\"Output o2: {o2_output}\")"
      ],
      "metadata": {
        "colab": {
          "base_uri": "https://localhost:8080/"
        },
        "id": "9DxSLuJw0dGU",
        "outputId": "126f0452-7bb4-4382-bf54-56240fa47ee5"
      },
      "execution_count": 8,
      "outputs": [
        {
          "output_type": "stream",
          "name": "stdout",
          "text": [
            "Output o1: 0.5444297369268069\n",
            "Output o2: 0.6006520588954107\n"
          ]
        }
      ]
    }
  ]
}