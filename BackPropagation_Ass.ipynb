{
  "nbformat": 4,
  "nbformat_minor": 0,
  "metadata": {
    "colab": {
      "provenance": []
    },
    "kernelspec": {
      "name": "python3",
      "display_name": "Python 3"
    },
    "language_info": {
      "name": "python"
    }
  },
  "cells": [
    {
      "cell_type": "code",
      "source": [
        "class NeuralNetwork:\n",
        "    def __init__(self):\n",
        "        # Initialize weights and biases\n",
        "        self.w = {\n",
        "            'w1': 0.15, 'w2': 0.20, 'w3': 0.25, 'w4': 0.30,\n",
        "            'w5': 0.40, 'w6': 0.45, 'w7': 0.50, 'w8': 0.55\n",
        "        }\n",
        "        self.b = {'b1': 0.35, 'b2': 0.60}\n",
        "\n",
        "    def sigmoid(self, x):\n",
        "        return 1 / (1 + (2.71828 ** -x))\n",
        "\n",
        "    def sigmoid_derivative(self, x):\n",
        "        return x * (1 - x)\n",
        "\n",
        "    def forward(self, i1, i2):\n",
        "        # Hidden layer\n",
        "        self.h1_in = i1 * self.w['w1'] + i2 * self.w['w3'] + self.b['b1']\n",
        "        self.h2_in = i1 * self.w['w2'] + i2 * self.w['w4'] + self.b['b1']\n",
        "\n",
        "        self.h1_out = self.sigmoid(self.h1_in)\n",
        "        self.h2_out = self.sigmoid(self.h2_in)\n",
        "\n",
        "        # Output layer\n",
        "        self.o1_in = self.h1_out * self.w['w5'] + self.h2_out * self.w['w7'] + self.b['b2']\n",
        "        self.o2_in = self.h1_out * self.w['w6'] + self.h2_out * self.w['w8'] + self.b['b2']\n",
        "\n",
        "        self.o1_out = self.sigmoid(self.o1_in)\n",
        "        self.o2_out = self.sigmoid(self.o2_in)\n",
        "\n",
        "        return self.o1_out, self.o2_out\n",
        "\n",
        "    def backward(self, i1, i2, target_o1, target_o2, learning_rate):\n",
        "        # Calculate output errors\n",
        "        error_o1 = target_o1 - self.o1_out\n",
        "        error_o2 = target_o2 - self.o2_out\n",
        "\n",
        "        # Calculate output gradients\n",
        "        d_o1 = error_o1 * self.sigmoid_derivative(self.o1_out)\n",
        "        d_o2 = error_o2 * self.sigmoid_derivative(self.o2_out)\n",
        "\n",
        "        # Calculate hidden layer errors\n",
        "        error_h1 = d_o1 * self.w['w5'] + d_o2 * self.w['w6']\n",
        "        error_h2 = d_o1 * self.w['w7'] + d_o2 * self.w['w8']\n",
        "\n",
        "        # Calculate hidden gradients\n",
        "        d_h1 = error_h1 * self.sigmoid_derivative(self.h1_out)\n",
        "        d_h2 = error_h2 * self.sigmoid_derivative(self.h2_out)\n",
        "\n",
        "        # Update weights and biases\n",
        "        self.w['w1'] += learning_rate * d_h1 * i1\n",
        "        self.w['w2'] += learning_rate * d_h1 * i2\n",
        "        self.w['w3'] += learning_rate * d_h2 * i1\n",
        "        self.w['w4'] += learning_rate * d_h2 * i2\n",
        "        self.w['w5'] += learning_rate * d_o1 * self.h1_out\n",
        "        self.w['w6'] += learning_rate * d_o1 * self.h2_out\n",
        "        self.w['w7'] += learning_rate * d_o2 * self.h1_out\n",
        "        self.w['w8'] += learning_rate * d_o2 * self.h2_out\n",
        "\n",
        "        self.b['b1'] += learning_rate * (d_h1 + d_h2)\n",
        "        self.b['b2'] += learning_rate * (d_o1 + d_o2)\n",
        "\n",
        "        # Print updated weights\n",
        "        print(\"Updated Weights:\")\n",
        "        for key, value in self.w.items():\n",
        "            print(f\"{key}: {value}\")\n",
        "\n",
        "# to implement\n",
        "nn = NeuralNetwork()\n",
        "i1, i2 = 0.05, 0.10\n",
        "target_o1, target_o2 = 0.01, 0.99\n",
        "learning_rate = 0.5\n",
        "\n",
        "# Forward pass\n",
        "nn.forward(i1, i2)\n",
        "\n",
        "# Backward pass\n",
        "nn.backward(i1, i2, target_o1, target_o2, learning_rate)\n"
      ],
      "metadata": {
        "colab": {
          "base_uri": "https://localhost:8080/"
        },
        "id": "FUKzsqhvQDWQ",
        "outputId": "237a9579-c6f3-4389-dbb2-53e8ce2ba797"
      },
      "execution_count": 1,
      "outputs": [
        {
          "output_type": "stream",
          "name": "stdout",
          "text": [
            "Updated Weights:\n",
            "w1: 0.14977620785823142\n",
            "w2: 0.19955241571646287\n",
            "w3: 0.24971767779654042\n",
            "w4: 0.2994353555930808\n",
            "w5: 0.35915206536439825\n",
            "w6: 0.4090279178228915\n",
            "w7: 0.511782208542425\n",
            "w8: 0.5618180177513142\n"
          ]
        }
      ]
    }
  ]
}